{
 "cells": [
  {
   "cell_type": "markdown",
   "id": "4e730e68",
   "metadata": {},
   "source": [
    "# Section 1 "
   ]
  },
  {
   "cell_type": "markdown",
   "id": "3f596e2e",
   "metadata": {},
   "source": [
    "Load the data from a CSV file into memory using the CSV module. The path \n",
    "to the file will be specified by the user then use these loaded data to perform \n",
    "following tasks"
   ]
  },
  {
   "cell_type": "code",
   "execution_count": 1,
   "id": "71a5ea7d",
   "metadata": {},
   "outputs": [
    {
     "name": "stdout",
     "output_type": "stream",
     "text": [
      "Enter FILE PATH : C:\\Users\\Sourabh\\Desktop\\com728\\Airbnb_UK_2022.csv\n"
     ]
    }
   ],
   "source": [
    "#created repo for github\n",
    "#import csv lib to access csv file\n",
    "import csv\n",
    "\n",
    "#take input from the usewr to access file\n",
    "file_name = input(\"Enter FILE PATH : \")\n",
    "\n",
    "#this will allow the user to put any desirable file pa"
   ]
  },
  {
   "cell_type": "markdown",
   "id": "dfa4c46f",
   "metadata": {},
   "source": [
    "Got the file path from the user"
   ]
  },
  {
   "cell_type": "code",
   "execution_count": 2,
   "id": "1493887d",
   "metadata": {},
   "outputs": [
    {
     "name": "stderr",
     "output_type": "stream",
     "text": [
      "IOPub data rate exceeded.\n",
      "The notebook server will temporarily stop sending output\n",
      "to the client in order to avoid crashing it.\n",
      "To change this limit, set the config variable\n",
      "`--NotebookApp.iopub_data_rate_limit`.\n",
      "\n",
      "Current values:\n",
      "NotebookApp.iopub_data_rate_limit=1000000.0 (bytes/sec)\n",
      "NotebookApp.rate_limit_window=3.0 (secs)\n",
      "\n"
     ]
    }
   ],
   "source": [
    "#open csv file to read its contents\n",
    "with open(file_name,encoding=\"utf-8\") as csv_file:\n",
    "    #read the csv file\n",
    "    csv_reader = csv.reader(csv_file)\n",
    "#display all the data\n",
    "    for row in csv_reader:\n",
    "        \n",
    "        print(row)\n",
    "        \n",
    "        \n",
    "#getting error due to file being too large"
   ]
  },
  {
   "cell_type": "markdown",
   "id": "ce63f581",
   "metadata": {},
   "source": [
    "Retrieve a name of listing, host_name, description, host_location, and the \n",
    "date the host was created for an individual host by host_id \n",
    "- Retrieve host_name, property_type, price, minimum"
   ]
  },
  {
   "cell_type": "code",
   "execution_count": 3,
   "id": "8a1dcf5a",
   "metadata": {},
   "outputs": [],
   "source": [
    "#to retrive the data from the dataset we need to create a new dict\n",
    "data_dict = {}\n",
    "with open(file_name, encoding='utf-8') as csv_file:\n",
    "#read the file using dictreader\n",
    "    reader = csv.DictReader(csv_file)\n",
    "    #give instructions\n",
    "    for row in reader:\n",
    "        host_id = row['host_id']\n",
    "        data_dict[host_id] = row"
   ]
  },
  {
   "cell_type": "markdown",
   "id": "f985da01",
   "metadata": {},
   "source": [
    "Take input of hostID to be accessed"
   ]
  },
  {
   "cell_type": "code",
   "execution_count": 23,
   "id": "ce9920fc",
   "metadata": {},
   "outputs": [
    {
     "ename": "KeyboardInterrupt",
     "evalue": "Interrupted by user",
     "output_type": "error",
     "traceback": [
      "\u001b[1;31m---------------------------------------------------------------------------\u001b[0m",
      "\u001b[1;31mKeyboardInterrupt\u001b[0m                         Traceback (most recent call last)",
      "\u001b[1;32m~\\AppData\\Local\\Temp\\ipykernel_26400\\4187241971.py\u001b[0m in \u001b[0;36m<module>\u001b[1;34m\u001b[0m\n\u001b[0;32m      1\u001b[0m \u001b[1;31m# take input from user for hostID\u001b[0m\u001b[1;33m\u001b[0m\u001b[1;33m\u001b[0m\u001b[0m\n\u001b[1;32m----> 2\u001b[1;33m \u001b[0mhost_id\u001b[0m \u001b[1;33m=\u001b[0m \u001b[0minput\u001b[0m\u001b[1;33m(\u001b[0m\u001b[1;34m\"Enter the host ID to retrieve data for: \"\u001b[0m\u001b[1;33m)\u001b[0m\u001b[1;33m\u001b[0m\u001b[1;33m\u001b[0m\u001b[0m\n\u001b[0m",
      "\u001b[1;32m~\\Anaconda3\\lib\\site-packages\\ipykernel\\kernelbase.py\u001b[0m in \u001b[0;36mraw_input\u001b[1;34m(self, prompt)\u001b[0m\n\u001b[0;32m   1175\u001b[0m                 \u001b[1;34m\"raw_input was called, but this frontend does not support input requests.\"\u001b[0m\u001b[1;33m\u001b[0m\u001b[1;33m\u001b[0m\u001b[0m\n\u001b[0;32m   1176\u001b[0m             )\n\u001b[1;32m-> 1177\u001b[1;33m         return self._input_request(\n\u001b[0m\u001b[0;32m   1178\u001b[0m             \u001b[0mstr\u001b[0m\u001b[1;33m(\u001b[0m\u001b[0mprompt\u001b[0m\u001b[1;33m)\u001b[0m\u001b[1;33m,\u001b[0m\u001b[1;33m\u001b[0m\u001b[1;33m\u001b[0m\u001b[0m\n\u001b[0;32m   1179\u001b[0m             \u001b[0mself\u001b[0m\u001b[1;33m.\u001b[0m\u001b[0m_parent_ident\u001b[0m\u001b[1;33m[\u001b[0m\u001b[1;34m\"shell\"\u001b[0m\u001b[1;33m]\u001b[0m\u001b[1;33m,\u001b[0m\u001b[1;33m\u001b[0m\u001b[1;33m\u001b[0m\u001b[0m\n",
      "\u001b[1;32m~\\Anaconda3\\lib\\site-packages\\ipykernel\\kernelbase.py\u001b[0m in \u001b[0;36m_input_request\u001b[1;34m(self, prompt, ident, parent, password)\u001b[0m\n\u001b[0;32m   1217\u001b[0m             \u001b[1;32mexcept\u001b[0m \u001b[0mKeyboardInterrupt\u001b[0m\u001b[1;33m:\u001b[0m\u001b[1;33m\u001b[0m\u001b[1;33m\u001b[0m\u001b[0m\n\u001b[0;32m   1218\u001b[0m                 \u001b[1;31m# re-raise KeyboardInterrupt, to truncate traceback\u001b[0m\u001b[1;33m\u001b[0m\u001b[1;33m\u001b[0m\u001b[0m\n\u001b[1;32m-> 1219\u001b[1;33m                 \u001b[1;32mraise\u001b[0m \u001b[0mKeyboardInterrupt\u001b[0m\u001b[1;33m(\u001b[0m\u001b[1;34m\"Interrupted by user\"\u001b[0m\u001b[1;33m)\u001b[0m \u001b[1;32mfrom\u001b[0m \u001b[1;32mNone\u001b[0m\u001b[1;33m\u001b[0m\u001b[1;33m\u001b[0m\u001b[0m\n\u001b[0m\u001b[0;32m   1220\u001b[0m             \u001b[1;32mexcept\u001b[0m \u001b[0mException\u001b[0m\u001b[1;33m:\u001b[0m\u001b[1;33m\u001b[0m\u001b[1;33m\u001b[0m\u001b[0m\n\u001b[0;32m   1221\u001b[0m                 \u001b[0mself\u001b[0m\u001b[1;33m.\u001b[0m\u001b[0mlog\u001b[0m\u001b[1;33m.\u001b[0m\u001b[0mwarning\u001b[0m\u001b[1;33m(\u001b[0m\u001b[1;34m\"Invalid Message:\"\u001b[0m\u001b[1;33m,\u001b[0m \u001b[0mexc_info\u001b[0m\u001b[1;33m=\u001b[0m\u001b[1;32mTrue\u001b[0m\u001b[1;33m)\u001b[0m\u001b[1;33m\u001b[0m\u001b[1;33m\u001b[0m\u001b[0m\n",
      "\u001b[1;31mKeyboardInterrupt\u001b[0m: Interrupted by user"
     ]
    }
   ],
   "source": [
    "# take input from user for hostID\n",
    "host_id = input(\"Enter the host ID to retrieve data for: \")"
   ]
  },
  {
   "cell_type": "code",
   "execution_count": 22,
   "id": "6ff90baf",
   "metadata": {},
   "outputs": [
    {
     "name": "stdout",
     "output_type": "stream",
     "text": [
      "Name of listing: Room with a view  zone 1  Central Bankside\n",
      "Host name: Nina\n",
      "Description: a luminous room in a modern   bed and breakfastroom flat located in central london  room has a great view of shard building and is very light  simply furnished with neutral minimal decor this listing is a for a separate isolated bed and breakfastroom   the bathroom is shared  the kitchen area can be used moderately   but not before  am or after  pm  the flat is shared with only one person  vegetarian household the spacethis listing is a for a separate isolated bed and breakfastroom   the bathroom is shared  the kitchen area can be used moderately   but not before  am or after  pm  vegetarian household  the room is filled with light  and has a great view of shard  windows are large  there is a king size bed and breakfast  clothes rail  small computer table and a chair  the room has wooden floors and is decorated in neutral tones  the room would suit someone who is in london on a short visit on work  business trip and would need a calm safe \n",
      "Host location: London\n",
      "Created date: 27-07-10\n"
     ]
    }
   ],
   "source": [
    "#data to be accessed for the respective hostID using if else condition \n",
    "if host_id in data_dict:\n",
    "    host_data = data_dict[host_id]\n",
    "    name = host_data['name']\n",
    "    host_name = host_data['host_name']\n",
    "    description = host_data['description']\n",
    "    host_location = host_data['host_location']\n",
    "    created_date = host_data['host_since']\n",
    "    #print all the data about the host ID\n",
    "    print(f\"Name of listing: {name}\\nHost name: {host_name}\\nDescription: {description}\\nHost location: {host_location}\\nCreated date: {created_date}\")\n",
    "else:\n",
    "    #Print message to be displayed if hostID is not found \n",
    "    print(\"Sorry ! No Data found regarding HostID:{host_id}\")\n"
   ]
  },
  {
   "cell_type": "markdown",
   "id": "bceb5807",
   "metadata": {},
   "source": [
    "Retrieve host_name, property_type, price, minimum_nights, and \n",
    "maximum_nights of all Airbnb listing for a specified location"
   ]
  },
  {
   "cell_type": "markdown",
   "id": "26e0bc06",
   "metadata": {},
   "source": [
    "Take input from the user for the location "
   ]
  },
  {
   "cell_type": "code",
   "execution_count": null,
   "id": "ba7773f3",
   "metadata": {},
   "outputs": [],
   "source": [
    "#user defined location\n",
    "location = input(\"What location are you looking for?:\")"
   ]
  },
  {
   "cell_type": "code",
   "execution_count": null,
   "id": "d510b354",
   "metadata": {},
   "outputs": [],
   "source": [
    "#Use filter data to\n",
    "filtered_data = []\n",
    "for row in reader:\n",
    "if row['host_location'] == location:filtered_data.append({'host_name': row['host_name'], 'property_type': row['property_type'], 'price': row['price'], 'minimum_nights': row['minimum_nights'], 'maximum_nights': row['maximum_nights']})\n",
    "        print(\"Filtered data:\")\n",
    "else\n",
    " print(f\"Nothing no data regarding this location:{location}\")\n",
    "for row in filtered_data:\n",
    "    print(row)"
   ]
  },
  {
   "cell_type": "code",
   "execution_count": null,
   "id": "b8998866",
   "metadata": {},
   "outputs": [],
   "source": []
  },
  {
   "cell_type": "code",
   "execution_count": null,
   "id": "9991348f",
   "metadata": {},
   "outputs": [],
   "source": []
  }
 ],
 "metadata": {
  "kernelspec": {
   "display_name": "Python 3 (ipykernel)",
   "language": "python",
   "name": "python3"
  },
  "language_info": {
   "codemirror_mode": {
    "name": "ipython",
    "version": 3
   },
   "file_extension": ".py",
   "mimetype": "text/x-python",
   "name": "python",
   "nbconvert_exporter": "python",
   "pygments_lexer": "ipython3",
   "version": "3.9.13"
  }
 },
 "nbformat": 4,
 "nbformat_minor": 5
}
