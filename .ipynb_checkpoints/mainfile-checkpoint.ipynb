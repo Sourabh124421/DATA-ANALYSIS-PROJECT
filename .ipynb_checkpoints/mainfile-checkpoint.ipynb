{
 "cells": [
  {
   "cell_type": "code",
   "execution_count": null,
   "id": "aa1af4ee",
   "metadata": {},
   "outputs": [],
   "source": [
    "# Import modules and functions used \n",
    "import os\n",
    "from load import *\n",
    "from tuifile import *\n",
    "from csvprocess import *\n",
    "from pandasprocess import *\n",
    "from visualization import *\n",
    "\n",
    "def run(): \n",
    "    load = False\n",
    "    heading()\n",
    "    welcome_message()\n",
    "    file_path = input(\"ENTER FILE PATH: \")\n",
    "    try:\n",
    "        df = load_file(file_path)\n",
    "        print('Dataset has been loaded successfully')\n",
    "        load = True\n",
    "    except:\n",
    "        print('OPPSSSS!! That seems to be a wrong data path')\n",
    "\n",
    "    system_run = True\n",
    "    while system_run == True and load==True:\n",
    "        menu_selection = menu()\n",
    "        if (menu_selection > 0 and menu_selection < 9):\n",
    "            print('load sub menu selection')\n",
    "            \n",
    "            #display the meain menu and get the user input about the selexction\n",
    "            if menu_selection == 1: \n",
    "                csvmenu_selection = csvprocess_menu()\n",
    "                df = load_file(file_path)\n",
    "                if csvmenu_selection == 1:\n",
    "                    result = retrieve_host_data(data)\n",
    "                    print(result)\n",
    "                elif csvmenu_selection == 2:\n",
    "                    result = filter_by_location(file_path)\n",
    "                    print(result)\n",
    "                elif csvmenu_selection == 3:\n",
    "                    result = filter_by_property_type(file_path)\n",
    "                    print(result)\n",
    "                elif csvmenu_selection == 4:\n",
    "                    result = filter_by_host_location(file_path)\n",
    "                    print(result)\n",
    "                elif csvmenu_selection == 5:\n",
    "                    print(f\"Here is your current file path :{file_path}\")\n",
    "                else:\n",
    "                    error()\n"
   ]
  },
  {
   "cell_type": "code",
   "execution_count": null,
   "id": "aa7cee56",
   "metadata": {},
   "outputs": [],
   "source": []
  },
  {
   "cell_type": "code",
   "execution_count": null,
   "id": "8faa1b01",
   "metadata": {},
   "outputs": [],
   "source": [
    "C:\\\\Users\\\\Sourabh\\\\Desktop\\\\com728\\\\Airbnb_UK_2022.csv"
   ]
  }
 ],
 "metadata": {
  "kernelspec": {
   "display_name": "Python 3 (ipykernel)",
   "language": "python",
   "name": "python3"
  },
  "language_info": {
   "codemirror_mode": {
    "name": "ipython",
    "version": 3
   },
   "file_extension": ".py",
   "mimetype": "text/x-python",
   "name": "python",
   "nbconvert_exporter": "python",
   "pygments_lexer": "ipython3",
   "version": "3.9.13"
  }
 },
 "nbformat": 4,
 "nbformat_minor": 5
}
