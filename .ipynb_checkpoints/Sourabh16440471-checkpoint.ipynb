{
 "cells": [
  {
   "cell_type": "markdown",
   "id": "9f8c756a",
   "metadata": {},
   "source": [
    "# Section 1 "
   ]
  },
  {
   "cell_type": "markdown",
   "id": "1d8f1cf9",
   "metadata": {},
   "source": [
    "Load the data from a CSV file into memory using the CSV module. The path \n",
    "to the file will be specified by the user then use these loaded data to perform \n",
    "following tasks"
   ]
  },
  {
   "cell_type": "code",
   "execution_count": 1,
   "id": "48fb9a8a",
   "metadata": {},
   "outputs": [
    {
     "name": "stdout",
     "output_type": "stream",
     "text": [
      "Enter FILE PATH : C:\\Users\\Sourabh\\Desktop\\com728\\Airbnb_UK_2022.csv\n"
     ]
    }
   ],
   "source": [
    "#created repo for github\n",
    "#import csv lib to access csv file\n",
    "import csv\n",
    "\n",
    "#take input from the usewr to access file\n",
    "file_name = input(\"Enter FILE PATH : \")\n",
    "\n",
    "#this will allow the user to put any desirable file pa"
   ]
  },
  {
   "cell_type": "markdown",
   "id": "6161db69",
   "metadata": {},
   "source": [
    "Got the file path from the user"
   ]
  },
  {
   "cell_type": "code",
   "execution_count": 2,
   "id": "b2f77ce0",
   "metadata": {},
   "outputs": [
    {
     "name": "stderr",
     "output_type": "stream",
     "text": [
      "IOPub data rate exceeded.\n",
      "The notebook server will temporarily stop sending output\n",
      "to the client in order to avoid crashing it.\n",
      "To change this limit, set the config variable\n",
      "`--NotebookApp.iopub_data_rate_limit`.\n",
      "\n",
      "Current values:\n",
      "NotebookApp.iopub_data_rate_limit=1000000.0 (bytes/sec)\n",
      "NotebookApp.rate_limit_window=3.0 (secs)\n",
      "\n"
     ]
    }
   ],
   "source": [
    "#open csv file to read its contents\n",
    "with open(file_name,encoding=\"utf-8\") as csv_file:\n",
    "    #read the csv file\n",
    "    csv_reader = csv.reader(csv_file)\n",
    "#display all the data\n",
    "    for row in csv_reader:\n",
    "        \n",
    "        print(row)\n",
    "        \n",
    "        \n",
    "#getting error due to file being too large"
   ]
  },
  {
   "cell_type": "markdown",
   "id": "4f9ef3b5",
   "metadata": {},
   "source": [
    "Retrieve a name of listing, host_name, description, host_location, and the \n",
    "date the host was created for an individual host by host_id \n",
    "- Retrieve host_name, property_type, price, minimum"
   ]
  },
  {
   "cell_type": "code",
   "execution_count": 3,
   "id": "6caaab95",
   "metadata": {},
   "outputs": [],
   "source": [
    "#to retrive the data from the dataset we need to create a new dict\n",
    "data_dict = {}\n",
    "with open(file_name, encoding='utf-8') as csv_file:\n",
    "#read the file using dictreader\n",
    "    reader = csv.DictReader(csv_file)\n",
    "    #give instructions\n",
    "    for row in reader:\n",
    "        host_id = row['host_id']\n",
    "        data_dict[host_id] = row"
   ]
  },
  {
   "cell_type": "markdown",
   "id": "670149ee",
   "metadata": {},
   "source": [
    "Take input of hostID to be accessed"
   ]
  },
  {
   "cell_type": "code",
   "execution_count": null,
   "id": "f2e42b40",
   "metadata": {},
   "outputs": [],
   "source": [
    "# take input from user for hostID\n",
    "host_id = input(\"Enter the host ID to retrieve data for: \")"
   ]
  },
  {
   "cell_type": "code",
   "execution_count": 22,
   "id": "15a977d8",
   "metadata": {},
   "outputs": [
    {
     "name": "stdout",
     "output_type": "stream",
     "text": [
      "Name of listing: Room with a view  zone 1  Central Bankside\n",
      "Host name: Nina\n",
      "Description: a luminous room in a modern   bed and breakfastroom flat located in central london  room has a great view of shard building and is very light  simply furnished with neutral minimal decor this listing is a for a separate isolated bed and breakfastroom   the bathroom is shared  the kitchen area can be used moderately   but not before  am or after  pm  the flat is shared with only one person  vegetarian household the spacethis listing is a for a separate isolated bed and breakfastroom   the bathroom is shared  the kitchen area can be used moderately   but not before  am or after  pm  vegetarian household  the room is filled with light  and has a great view of shard  windows are large  there is a king size bed and breakfast  clothes rail  small computer table and a chair  the room has wooden floors and is decorated in neutral tones  the room would suit someone who is in london on a short visit on work  business trip and would need a calm safe \n",
      "Host location: London\n",
      "Created date: 27-07-10\n"
     ]
    }
   ],
   "source": [
    "#data to be accessed for the respective hostID using if else condition \n",
    "if host_id in data_dict:\n",
    "    host_data = data_dict[host_id]\n",
    "    name = host_data['name']\n",
    "    host_name = host_data['host_name']\n",
    "    description = host_data['description']\n",
    "    host_location = host_data['host_location']\n",
    "    created_date = host_data['host_since']\n",
    "    #print all the data about the host ID\n",
    "    print(f\"Name of listing: {name}\\nHost name: {host_name}\\nDescription: {description}\\nHost location: {host_location}\\nCreated date: {created_date}\")\n",
    "else:\n",
    "    #Print message to be displayed if hostID is not found \n",
    "    print(\"Sorry ! No Data found regarding HostID:{host_id}\")\n"
   ]
  },
  {
   "cell_type": "code",
   "execution_count": null,
   "id": "4cb10962",
   "metadata": {},
   "outputs": [],
   "source": []
  },
  {
   "cell_type": "code",
   "execution_count": null,
   "id": "89822b64",
   "metadata": {},
   "outputs": [],
   "source": []
  },
  {
   "cell_type": "code",
   "execution_count": null,
   "id": "19212b89",
   "metadata": {},
   "outputs": [],
   "source": []
  }
 ],
 "metadata": {
  "kernelspec": {
   "display_name": "Python 3 (ipykernel)",
   "language": "python",
   "name": "python3"
  },
  "language_info": {
   "codemirror_mode": {
    "name": "ipython",
    "version": 3
   },
   "file_extension": ".py",
   "mimetype": "text/x-python",
   "name": "python",
   "nbconvert_exporter": "python",
   "pygments_lexer": "ipython3",
   "version": "3.9.13"
  }
 },
 "nbformat": 4,
 "nbformat_minor": 5
}
