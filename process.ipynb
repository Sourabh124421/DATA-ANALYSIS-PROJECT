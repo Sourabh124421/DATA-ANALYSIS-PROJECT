{
 "cells": [
  {
   "cell_type": "code",
   "execution_count": 1,
   "id": "03599566",
   "metadata": {},
   "outputs": [
    {
     "name": "stdout",
     "output_type": "stream",
     "text": [
      "Enter FILE PATH : C:\\Users\\Sourabh\\Desktop\\com728\\Airbnb_UK_2022.csv\n"
     ]
    },
    {
     "name": "stderr",
     "output_type": "stream",
     "text": [
      "IOPub data rate exceeded.\n",
      "The notebook server will temporarily stop sending output\n",
      "to the client in order to avoid crashing it.\n",
      "To change this limit, set the config variable\n",
      "`--NotebookApp.iopub_data_rate_limit`.\n",
      "\n",
      "Current values:\n",
      "NotebookApp.iopub_data_rate_limit=1000000.0 (bytes/sec)\n",
      "NotebookApp.rate_limit_window=3.0 (secs)\n",
      "\n"
     ]
    }
   ],
   "source": [
    "import csv\n",
    "\n",
    "def read_csv_file(file_path):\n",
    "    try:\n",
    "        with open(file_path, newline='', encoding='utf-8') as csvfile:\n",
    "            reader = csv.DictReader(csvfile)\n",
    "            data = [row for row in reader]\n",
    "            return data\n",
    "    except FileNotFoundError:\n",
    "        print(f\"Error: File not found: {file_path}\")\n",
    "        return []\n",
    "    except:\n",
    "        print(f\"Error: Could not read file: {file_path}\")\n",
    "        return []\n",
    "file_path = input(\"Enter FILE PATH : \")\n",
    "data = read_csv_file(file_path)\n",
    "print(data)\n",
    "\n",
    "\n",
    "# def retrieve_host_data():\n",
    "#     # Getting error due to file being too large\n",
    "#     # To retrieve the data from the dataset we need to create a new dict\n",
    "#     data_dict = {}\n",
    "#     with open(file_name, encoding='utf-8') as csv_file:\n",
    "#         # Read the file using DictReader\n",
    "#         reader = csv.DictReader(csv_file)\n",
    "#         # Give instructions\n",
    "#         for row in reader:\n",
    "#             host_id = row['host_id']\n",
    "#             data_dict[host_id] = row\n",
    "\n",
    "#     # Take input from user for hostID\n",
    "#     host_id = input(\"Enter the host ID to retrieve data for: \")\n",
    "\n",
    "#     # Data to be accessed for the respective hostID using if else condition \n",
    "#     if host_id in data_dict:\n",
    "#         host_data = data_dict[host_id]\n",
    "#         name = host_data['name']\n",
    "#         host_name = host_data['host_name']\n",
    "#         description = host_data['description']\n",
    "#         host_location = host_data['host_location']\n",
    "#         created_date = host_data['host_since']\n",
    "#         # Print all the data about the host ID\n",
    "#         print(f\"Name of listing: {name}\\nHost name: {host_name}\\nDescription: {description}\\nHost location: {host_location}\\nCreated date: {created_date}\")\n",
    "#     else:\n",
    "#         # Print message to be displayed if hostID is not found \n",
    "#         print(f\"Sorry! No Data found regarding HostID:{host_id}\")\n",
    "\n",
    "    \n",
    "# #user defined location\n",
    "# location = input(\"What location are you looking for?:\")\n",
    "\n",
    "\n",
    "# # Open the CSV file\n",
    "# with open(file_name, encoding='utf8') as file:\n",
    "\n",
    "#     # Create a CSV reader object\n",
    "#     reader = csv.DictReader(file)\n",
    "\n",
    "# with open(file_name, encoding='utf-8') as csv_file:\n",
    "#     reader = csv.DictReader(csv_file)\n",
    "#     filtered_data = []\n",
    "#     for row in reader:\n",
    "#         if row['host_location'] == location:\n",
    "#             filtered_data.append({'host_name': row['host_name'], 'property_type': row['property_type'], 'price': row['price'], 'minimum_nights': row['minimum_nights'], 'maximum_nights': row['maximum_nights']})\n",
    "#  # Print the filtered data\n",
    "#     print(\"Here is the data you requested for -\")\n",
    "#     for row in filtered_data:\n",
    "#         print(row)\n",
    "        \n",
    "\n",
    "# property_type = input('What Kind Of Property Are You Looking For ? -\\n -renatl unit \\n -Private room \\n -houseboat \\n -townhouse \\n -home \\n -condo \\n -loft \\n -cottage \\n -guest suite \\n -boat \\n -cabin \\n -serviced apartment \\n -bed and breakfast \\n -')\n",
    "# filtered_data = []\n",
    "# with open(file_name, encoding='utf-8') as csv_file:\n",
    "#     reader = csv.DictReader(csv_file)\n",
    "#     for row in reader:\n",
    "#         if row['property_type'] == property_type:\n",
    "#             filtered_data.append({'room_type': row['room_type'], 'accommodates': row['accommodates'], 'bathrooms': row['bathrooms_text'], 'bedrooms': row['bedrooms'], 'beds': row['beds']})\n",
    "\n",
    "# # Print the filtered data\n",
    "# print(\"Here is the data you requested for : \")\n",
    "# for row in filtered_data:\n",
    "#     print(row)        \n",
    "    \n",
    "# import csv\n",
    "\n",
    "# # Open the CSV file\n",
    "# with open(file_name, encoding='utf8') as file:\n",
    "\n",
    "#     # Create a CSV reader object\n",
    "#     reader = csv.DictReader(file)\n",
    "\n",
    "#     location = input('Please provide a location:')\n",
    "#     host_name = input('Please Input a Name:')\n",
    "\n",
    "#     # Create an empty list to store the filtered data\n",
    "#     filtered_data = []\n",
    "\n",
    "#     # Loop through each row in the CSV file\n",
    "#     for row in reader:\n",
    "\n",
    "#         # Check if the host name and location match\n",
    "#         if row['host_location'] == location and row['host_name'] == host_name:\n",
    "\n",
    "#             # Append the specific columns to the filtered data list\n",
    "#             filtered_data.append({'acceptance_rate': row['host_acceptance_rate'], 'amenities': row['amenities'], 'instant_bookable': row['instant_bookable']})\n",
    "\n",
    "#     # Print the filtered data\n",
    "#     print(\"HERE IS THE DATA YOU REQUESTED FOR:\")\n",
    "#     for data in filtered_data:\n",
    "#         print(data)\n",
    "    \n",
    "\n",
    "# # Open the CSV file\n",
    "# with open(file_name, encoding='utf8') as file:\n",
    "\n",
    "#     # Create a CSV reader object\n",
    "#     reader = csv.DictReader(file)\n",
    "\n",
    "#     location = input('Please Enter a LOcation :')\n",
    "#     host_name = input('Please Select a Name :')\n",
    "\n",
    "#     # Create an empty list to store the filtered data\n",
    "#     filtered_data = []\n",
    "\n",
    "#     # Loop through each row in the CSV file\n",
    "#     for row in reader:\n",
    "\n",
    "#         # Check if the host name and location match\n",
    "#         if row['host_location'] == location and row['host_name'] == host_name:\n",
    "\n",
    "#             # Append the specific columns to the filtered data list\n",
    "#             filtered_data.append({'acceptance_rate': row['host_acceptance_rate'], 'amenities': row['amenities'], 'instant_bookable': row['instant_bookable']})\n",
    "\n",
    "#     # Print the filtered data\n",
    "#     print(f\"Here is the data you requested for {host_name}for his property at {location}\")\n",
    "#     for data in filtered_data:\n",
    "#         print(data)\n",
    "    \n",
    "    \n",
    "        \n",
    "        "
   ]
  },
  {
   "cell_type": "code",
   "execution_count": 8,
   "id": "f06c7157",
   "metadata": {},
   "outputs": [
    {
     "ename": "SyntaxError",
     "evalue": "invalid syntax (1387249117.py, line 1)",
     "output_type": "error",
     "traceback": [
      "\u001b[1;36m  File \u001b[1;32m\"C:\\Users\\Sourabh\\AppData\\Local\\Temp\\ipykernel_15736\\1387249117.py\"\u001b[1;36m, line \u001b[1;32m1\u001b[0m\n\u001b[1;33m    jupyter notebook --generate-config\u001b[0m\n\u001b[1;37m            ^\u001b[0m\n\u001b[1;31mSyntaxError\u001b[0m\u001b[1;31m:\u001b[0m invalid syntax\n"
     ]
    }
   ],
   "source": [
    "jupyter notebook --generate-config"
   ]
  },
  {
   "cell_type": "code",
   "execution_count": 7,
   "id": "cc30eb4c",
   "metadata": {},
   "outputs": [
    {
     "ename": "SyntaxError",
     "evalue": "invalid syntax (2604025419.py, line 1)",
     "output_type": "error",
     "traceback": [
      "\u001b[1;36m  File \u001b[1;32m\"C:\\Users\\Sourabh\\AppData\\Local\\Temp\\ipykernel_15736\\2604025419.py\"\u001b[1;36m, line \u001b[1;32m1\u001b[0m\n\u001b[1;33m    $ jupyter notebook --generate-config\u001b[0m\n\u001b[1;37m    ^\u001b[0m\n\u001b[1;31mSyntaxError\u001b[0m\u001b[1;31m:\u001b[0m invalid syntax\n"
     ]
    }
   ],
   "source": []
  },
  {
   "cell_type": "code",
   "execution_count": 11,
   "id": "0ba55c7e",
   "metadata": {},
   "outputs": [
    {
     "name": "stdout",
     "output_type": "stream",
     "text": [
      "Note: you may need to restart the kernel to use updated packages.\n"
     ]
    },
    {
     "name": "stderr",
     "output_type": "stream",
     "text": [
      "\n",
      "Usage:   \n",
      "  C:\\Users\\Sourabh\\Anaconda3\\python.exe -m pip install [options] <requirement specifier> [package-index-options] ...\n",
      "  C:\\Users\\Sourabh\\Anaconda3\\python.exe -m pip install [options] -r <requirements file> [package-index-options] ...\n",
      "  C:\\Users\\Sourabh\\Anaconda3\\python.exe -m pip install [options] [-e] <vcs project url> ...\n",
      "  C:\\Users\\Sourabh\\Anaconda3\\python.exe -m pip install [options] [-e] <local project path> ...\n",
      "  C:\\Users\\Sourabh\\Anaconda3\\python.exe -m pip install [options] <archive url/path> ...\n",
      "\n",
      "no such option: -g\n"
     ]
    }
   ],
   "source": [
    "pip install jupyter notebook -generate-config"
   ]
  },
  {
   "cell_type": "code",
   "execution_count": null,
   "id": "d2c38b3a",
   "metadata": {},
   "outputs": [],
   "source": []
  }
 ],
 "metadata": {
  "kernelspec": {
   "display_name": "Python 3 (ipykernel)",
   "language": "python",
   "name": "python3"
  },
  "language_info": {
   "codemirror_mode": {
    "name": "ipython",
    "version": 3
   },
   "file_extension": ".py",
   "mimetype": "text/x-python",
   "name": "python",
   "nbconvert_exporter": "python",
   "pygments_lexer": "ipython3",
   "version": "3.9.13"
  }
 },
 "nbformat": 4,
 "nbformat_minor": 5
}
