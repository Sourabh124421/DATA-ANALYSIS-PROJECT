{
 "cells": [
  {
   "cell_type": "code",
   "execution_count": 67,
   "id": "4a88ef15",
   "metadata": {
    "scrolled": true
   },
   "outputs": [
    {
     "data": {
      "text/markdown": [
       "<h1><span style='font-size:48px'>Welcome to DATA PROJECT *-*</span></h1>"
      ],
      "text/plain": [
       "<IPython.core.display.Markdown object>"
      ]
     },
     "metadata": {},
     "output_type": "display_data"
    },
    {
     "name": "stdout",
     "output_type": "stream",
     "text": [
      "                                \u001b[7mHOPE YOU'RE HAVING A GREAT DAY!\u001b[0m\n",
      "\n",
      "Please Select One Option From The Menu:\n",
      " 1.CSV Process \n",
      " 2.Pandas Process \n",
      " 3.Visualization \n",
      " 9.Abort\n",
      "\n",
      "1\n",
      "You have selected:1\n",
      "\n",
      "Please Select One Option From The CSV Processes Listed:\n",
      " 1.Get Information using HOST ID \n",
      " 2.Get Information related to LOCATION \n",
      " 3.Get Information about a specific PROPERTY TYPE \n",
      " 4.Get Information using HOST and LOCATION \n",
      " 5.Press 5 to Dislay the file path\n",
      "\n",
      "4\n",
      "You have selected:4\n",
      "\n",
      "Please Select One Option From The Pandas Processes Listed:\n",
      " 1.Get Top 10 Amenities that hosts provide \n",
      " 2.Get Aerage price of stay in each location\n",
      " 3.Get Average review scores rating for each location \n",
      " 4.Get Average review cleanliness score for each location\n",
      "\n",
      "6\n",
      "You have selected:6\n"
     ]
    },
    {
     "data": {
      "text/plain": [
       "6"
      ]
     },
     "execution_count": 67,
     "metadata": {},
     "output_type": "execute_result"
    }
   ],
   "source": [
    "from IPython.display import Markdown\n",
    "\n",
    "def heading():\n",
    "    display(Markdown(\"<h1><span style='font-size:48px'>Welcome to DATA PROJECT *-*</span></h1>\"))\n",
    "\n",
    "heading()\n",
    "\n",
    "def welcome_message(): \n",
    "    print(\"                                \\033[7mHOPE YOU'RE HAVING A GREAT DAY!\\033[0m\")\n",
    "    \n",
    "welcome_message()    \n",
    "\n",
    "\n",
    "\n",
    "def menu():\n",
    "    print(\"\\nPlease Select One Option From The Menu:\")\n",
    "    menu_selection=input(\" 1.CSV Process \\n 2.Pandas Process \\n 3.Visualization \\n 9.Abort\\n\\n\")\n",
    "    print(f\"You have selected:{menu_selection}\")\n",
    "    try:\n",
    "        return int(menu_selection)\n",
    "    except:\n",
    "        return 0\n",
    "    \n",
    "    \n",
    "menu()    \n",
    "\n",
    "def csvprocess_menu():\n",
    "    print(\"\\nPlease Select One Option From The CSV Processes Listed:\")\n",
    "    csvmenu_selection=input(\" 1.Get Information using HOST ID \\n 2.Get Information related to LOCATION \\n 3.Get Information about a specific PROPERTY TYPE \\n 4.Get Information using HOST and LOCATION \\n 5.Press 5 to Dislay the file path\\n\\n\")\n",
    "    print(f\"You have selected:{csvmenu_selection}\")\n",
    "    try:\n",
    "        return int(csvmenu_selection)\n",
    "    except:\n",
    "        return 0\n",
    "\n",
    "csvprocess_menu()    \n",
    "    \n",
    "    \n",
    "def pandasprocess_menu():\n",
    "    print(\"\\nPlease Select One Option From The Pandas Processes Listed:\")\n",
    "    pandasmenu_selection=input(\" 1.Get Top 10 Amenities that hosts provide \\n 2.Get Aerage price of stay in each location\\n 3.Get Average review scores rating for each location \\n 4.Get Average review cleanliness score for each location\\n\\n\")\n",
    "    print(f\"You have selected:{pandasmenu_selection}\")\n",
    "    try:\n",
    "        return int(pandasmenu_selection)\n",
    "    except:\n",
    "        return 0\n",
    "    \n",
    "pandasprocess_menu()    "
   ]
  },
  {
   "cell_type": "code",
   "execution_count": null,
   "id": "62146f1f",
   "metadata": {},
   "outputs": [],
   "source": []
  },
  {
   "cell_type": "code",
   "execution_count": null,
   "id": "561b9520",
   "metadata": {},
   "outputs": [],
   "source": []
  }
 ],
 "metadata": {
  "kernelspec": {
   "display_name": "Python 3 (ipykernel)",
   "language": "python",
   "name": "python3"
  },
  "language_info": {
   "codemirror_mode": {
    "name": "ipython",
    "version": 3
   },
   "file_extension": ".py",
   "mimetype": "text/x-python",
   "name": "python",
   "nbconvert_exporter": "python",
   "pygments_lexer": "ipython3",
   "version": "3.9.13"
  }
 },
 "nbformat": 4,
 "nbformat_minor": 5
}
