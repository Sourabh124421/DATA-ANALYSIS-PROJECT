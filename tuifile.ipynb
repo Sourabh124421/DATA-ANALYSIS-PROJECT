{
 "cells": [
  {
   "cell_type": "code",
   "execution_count": 58,
   "id": "1a4dd646",
   "metadata": {},
   "outputs": [
    {
     "data": {
      "text/markdown": [
       "<h1><span style='font-size:48px'>Welcome to DATA PROJECT *-*</span></h1>"
      ],
      "text/plain": [
       "<IPython.core.display.Markdown object>"
      ]
     },
     "metadata": {},
     "output_type": "display_data"
    },
    {
     "name": "stdout",
     "output_type": "stream",
     "text": [
      "                                \u001b[7mHOPE YOU'RE HAVING A GREAT DAY!\u001b[0m\n",
      "\n",
      "Please Select One Option From The Menu:\n",
      " 1.CSV Process \n",
      " 2.Pandas Process \n",
      " 3.Visualization \n",
      " 9.Abort\n",
      "2\n",
      "You have selected:\n"
     ]
    },
    {
     "data": {
      "text/plain": [
       "2"
      ]
     },
     "execution_count": 58,
     "metadata": {},
     "output_type": "execute_result"
    }
   ],
   "source": [
    "from IPython.display import Markdown\n",
    "\n",
    "def heading():\n",
    "    display(Markdown(\"<h1><span style='font-size:48px'>Welcome to DATA PROJECT *-*</span></h1>\"))\n",
    "\n",
    "heading()\n",
    "\n",
    "def welcome_message(): \n",
    "    print(\"                                \\033[7mHOPE YOU'RE HAVING A GREAT DAY!\\033[0m\")\n",
    "    \n",
    "welcome_message()    \n",
    "\n",
    "def menu():\n",
    "    print(\"\\nPlease Select One Option From The Menu:\")\n",
    "    menu_selection=input(\" 1.CSV Process \\n 2.Pandas Process \\n 3.Visualization \\n 9.Abort\\n\")\n",
    "    print(\"You have selected:\")\n",
    "    try:\n",
    "        return int(menu_selection)\n",
    "    except:\n",
    "        return 0\n",
    "    \n",
    "    \n",
    "menu()    \n",
    "\n"
   ]
  },
  {
   "cell_type": "code",
   "execution_count": null,
   "id": "5895b001",
   "metadata": {},
   "outputs": [],
   "source": []
  },
  {
   "cell_type": "code",
   "execution_count": null,
   "id": "98704b9e",
   "metadata": {},
   "outputs": [],
   "source": []
  }
 ],
 "metadata": {
  "kernelspec": {
   "display_name": "Python 3 (ipykernel)",
   "language": "python",
   "name": "python3"
  },
  "language_info": {
   "codemirror_mode": {
    "name": "ipython",
    "version": 3
   },
   "file_extension": ".py",
   "mimetype": "text/x-python",
   "name": "python",
   "nbconvert_exporter": "python",
   "pygments_lexer": "ipython3",
   "version": "3.9.13"
  }
 },
 "nbformat": 4,
 "nbformat_minor": 5
}
