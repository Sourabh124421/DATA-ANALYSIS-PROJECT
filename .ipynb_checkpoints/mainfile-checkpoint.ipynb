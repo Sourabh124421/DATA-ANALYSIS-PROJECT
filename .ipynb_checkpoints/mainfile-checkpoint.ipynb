{
 "cells": [
  {
   "cell_type": "code",
   "execution_count": null,
   "id": "fe8f5bdc",
   "metadata": {},
   "outputs": [],
   "source": [
    "import csv\n",
    "import pandas as pd\n",
    "import matplotlib.pyplot as plt\n",
    "from tui import display_menu, get_csv_path\n",
    "from pandasprocess import get_top_amenities, get_avg_price_by_location, get_avg_review_score_by_location, get_avg_review_scores_cleanliness_by_location\n",
    "\n",
    "# Main function\n",
    "def main():\n",
    "    # Display the menu and get user choice\n",
    "    choice = display_menu()\n"
   ]
  },
  {
   "cell_type": "code",
   "execution_count": null,
   "id": "56b361c9",
   "metadata": {},
   "outputs": [],
   "source": []
  },
  {
   "cell_type": "code",
   "execution_count": null,
   "id": "0b7b387b",
   "metadata": {},
   "outputs": [],
   "source": []
  }
 ],
 "metadata": {
  "kernelspec": {
   "display_name": "Python 3 (ipykernel)",
   "language": "python",
   "name": "python3"
  },
  "language_info": {
   "codemirror_mode": {
    "name": "ipython",
    "version": 3
   },
   "file_extension": ".py",
   "mimetype": "text/x-python",
   "name": "python",
   "nbconvert_exporter": "python",
   "pygments_lexer": "ipython3",
   "version": "3.9.13"
  }
 },
 "nbformat": 4,
 "nbformat_minor": 5
}
