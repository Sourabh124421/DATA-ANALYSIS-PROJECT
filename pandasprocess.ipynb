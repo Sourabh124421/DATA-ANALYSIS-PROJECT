{
 "cells": [
  {
   "cell_type": "code",
   "execution_count": 30,
   "id": "60f58981",
   "metadata": {},
   "outputs": [
    {
     "ename": "NameError",
     "evalue": "name 'df' is not defined",
     "output_type": "error",
     "traceback": [
      "\u001b[1;31m---------------------------------------------------------------------------\u001b[0m",
      "\u001b[1;31mNameError\u001b[0m                                 Traceback (most recent call last)",
      "\u001b[1;32m~\\AppData\\Local\\Temp\\ipykernel_19780\\1634419035.py\u001b[0m in \u001b[0;36m<module>\u001b[1;34m\u001b[0m\n\u001b[0;32m     29\u001b[0m \u001b[1;33m\u001b[0m\u001b[0m\n\u001b[0;32m     30\u001b[0m \u001b[1;31m# Call it and print\u001b[0m\u001b[1;33m\u001b[0m\u001b[1;33m\u001b[0m\u001b[0m\n\u001b[1;32m---> 31\u001b[1;33m \u001b[0mtop_amenities_dict\u001b[0m \u001b[1;33m=\u001b[0m \u001b[0mget_top_amenities\u001b[0m\u001b[1;33m(\u001b[0m\u001b[0mdf\u001b[0m\u001b[1;33m)\u001b[0m\u001b[1;33m\u001b[0m\u001b[1;33m\u001b[0m\u001b[0m\n\u001b[0m\u001b[0;32m     32\u001b[0m \u001b[0mprint\u001b[0m\u001b[1;33m(\u001b[0m\u001b[1;34m\"Top 10 most popular amenities or features:\"\u001b[0m\u001b[1;33m)\u001b[0m\u001b[1;33m\u001b[0m\u001b[1;33m\u001b[0m\u001b[0m\n\u001b[0;32m     33\u001b[0m \u001b[1;32mfor\u001b[0m \u001b[0mamenity\u001b[0m\u001b[1;33m,\u001b[0m \u001b[0mcount\u001b[0m \u001b[1;32min\u001b[0m \u001b[0mtop_amenities_dict\u001b[0m\u001b[1;33m.\u001b[0m\u001b[0mitems\u001b[0m\u001b[1;33m(\u001b[0m\u001b[1;33m)\u001b[0m\u001b[1;33m:\u001b[0m\u001b[1;33m\u001b[0m\u001b[1;33m\u001b[0m\u001b[0m\n",
      "\u001b[1;31mNameError\u001b[0m: name 'df' is not defined"
     ]
    }
   ],
   "source": [
    "import pandas as pd\n",
    "\n",
    "# file_path = 'C:\\\\Users\\\\Sourabh\\\\Desktop\\\\com728\\\\Airbnb_UK_2022.csv'\n",
    "\n",
    "def get_top_amenities(df):\n",
    "    amenities_count = {}\n",
    "    for index, row in df.iterrows():\n",
    "        amenities = row['amenities'].replace('{', '').replace('}', '').replace('\"', '').split(',')\n",
    "        for amenity in amenities:\n",
    "            if amenity not in amenities_count:\n",
    "                amenities_count[amenity] = 1\n",
    "            else:\n",
    "                amenities_count[amenity] += 1\n",
    "    top_amenities = sorted(amenities_count.items(), key=lambda x: x[1], reverse=True)[:10]\n",
    "    top_amenities_dict = {amenity: count for amenity, count in top_amenities}\n",
    "    return top_amenities_dict\n",
    "\n",
    "def get_avg_price_by_location(df):\n",
    "    avg_price_by_location = df.groupby('host_location')['price'].mean()\n",
    "    return avg_price_by_location\n",
    "\n",
    "def get_avg_review_score_by_location(df):\n",
    "    avg_review_score_by_location = df.groupby('host_location')['review_scores_rating'].mean()\n",
    "    return avg_review_score_by_location\n",
    "\n",
    "def get_avg_review_scores_cleanliness_by_location(df):\n",
    "    avg_review_scores_cleanliness_by_location = df.groupby('host_location')['review_scores_cleanliness'].mean()\n",
    "    return avg_review_scores_cleanliness_by_location\n",
    "\n",
    "# # Call it and print \n",
    "# top_amenities_dict = get_top_amenities(df)\n",
    "# print(\"Top 10 most popular amenities or features:\")\n",
    "# for amenity, count in top_amenities_dict.items():\n",
    "#     print(f\"{amenity}: {count}\")\n",
    "\n",
    "# avg_price_by_location = get_avg_price_by_location(df)\n",
    "# print(\"\\nAverage price of stay in each location:\")\n",
    "# print(avg_price_by_location)\n",
    "\n",
    "# avg_review_score_by_location = get_avg_review_score_by_location(df)\n",
    "# print(\"\\nAverage review scores rating for each location:\")\n",
    "# print(avg_review_score_by_location)\n",
    "\n",
    "# avg_review_scores_cleanliness_by_location = get_avg_review_scores_cleanliness_by_location(df)\n",
    "# print(\"\\nAverage review cleanliness score for each location:\")\n",
    "# print(avg_review_scores_cleanliness_by_location)\n"
   ]
  },
  {
   "cell_type": "code",
   "execution_count": null,
   "id": "933234a2",
   "metadata": {},
   "outputs": [],
   "source": []
  },
  {
   "cell_type": "code",
   "execution_count": null,
   "id": "f676269f",
   "metadata": {},
   "outputs": [],
   "source": []
  }
 ],
 "metadata": {
  "kernelspec": {
   "display_name": "Python 3 (ipykernel)",
   "language": "python",
   "name": "python3"
  },
  "language_info": {
   "codemirror_mode": {
    "name": "ipython",
    "version": 3
   },
   "file_extension": ".py",
   "mimetype": "text/x-python",
   "name": "python",
   "nbconvert_exporter": "python",
   "pygments_lexer": "ipython3",
   "version": "3.9.13"
  }
 },
 "nbformat": 4,
 "nbformat_minor": 5
}
