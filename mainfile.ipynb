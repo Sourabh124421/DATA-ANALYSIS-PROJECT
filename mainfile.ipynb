{
 "cells": [
  {
   "cell_type": "code",
   "execution_count": 109,
   "id": "aa1af4ee",
   "metadata": {},
   "outputs": [
    {
     "data": {
      "text/markdown": [
       "<h1><span style='font-size:48px'>Welcome to DATA PROJECT *-*</span></h1>"
      ],
      "text/plain": [
       "<IPython.core.display.Markdown object>"
      ]
     },
     "metadata": {},
     "output_type": "display_data"
    },
    {
     "name": "stdout",
     "output_type": "stream",
     "text": [
      "                                \u001b[7mHOPE YOU'RE HAVING A GREAT DAY!\u001b[0m\n",
      "\n",
      "\n",
      "****************************************************************************************************\n",
      "****************************************************************************************************\n",
      "ENTER FILE PATH: C:\\\\Users\\\\Sourabh\\\\Desktop\\\\com728\\\\Airbnb_UK_2022.csv\n",
      "Dataset has been loaded successfully\n",
      "\u001b[31m\n",
      "Please Select One Option From The Menu:\n",
      "\u001b[0m\n",
      " 1.CSV Process \n",
      "\n",
      " 2.Pandas Process \n",
      "\n",
      " 3.Visualization \n",
      "\n",
      " 9.Abort\n",
      "\n",
      "9\n",
      "\u001b[32mYou have selected:\u001b[0m9\n",
      "****************************************************************************************************\n",
      "OPPSS PLEASE SELECT THE RIGHT OPTION\n",
      "YOU HAVE SELECTED TO ABORT THE PROGRAM *-*\n",
      "                   \u001b[7mBYE\u001b[0m\n"
     ]
    }
   ],
   "source": [
    "# Import modules and functions used \n",
    "import os\n",
    "from load import *\n",
    "from tuifile import *\n",
    "from csvprocess import *\n",
    "from pandasprocess import *\n",
    "from visualization import *\n",
    "\n",
    "def run(): \n",
    "    load = False\n",
    "    heading()\n",
    "    welcome_message()\n",
    "    file_path = input(\"ENTER FILE PATH: \")\n",
    "    try:\n",
    "        df = load_file(file_path)\n",
    "        print('Dataset has been loaded successfully')\n",
    "        load = True\n",
    "    except:\n",
    "        print('OPPSSSS!! That seems to be a wrong data path')\n",
    "        run()\n",
    "    system_run = True\n",
    "    while system_run == True and load==True:\n",
    "        menu_selection = menu()\n",
    "        \n",
    "        if (menu_selection != 1 , 2 , 3 ,9):\n",
    "            print('OPPSS PLEASE SELECT THE RIGHT OPTION')\n",
    "            #display the main  menu and get user input and call the right function\n",
    "            if menu_selection == 1: \n",
    "                csvmenu_selection = csvprocess_menu()\n",
    "                df = load_file(file_path)\n",
    "                if csvmenu_selection == 1:\n",
    "                    result = retrieve_host_data(data)\n",
    "                    print(result)\n",
    "                elif csvmenu_selection == 2:\n",
    "                    result = filter_by_location(file_path)\n",
    "                    print(result)\n",
    "                elif csvmenu_selection == 3:\n",
    "                    result = filter_by_property_type(file_path)\n",
    "                    print(result)\n",
    "                elif csvmenu_selection == 4:\n",
    "                    result = filter_by_host_location(file_path)\n",
    "                    print(result)\n",
    "                elif csvmenu_selection == 5:\n",
    "                    print(f\"Here is your current file path :{file_path}\")\n",
    "                else:\n",
    "                    error()\n",
    "                    \n",
    "               #display the csv process menu and get the user input and call related function\n",
    "            elif menu_selection == 2:\n",
    "                pandasmenu_selection = pandasprocess_menu()\n",
    "                if pandasmenu_selection == 1:\n",
    "                    print(get_top_amenities(df))\n",
    "                elif pandasmenu_selection == 2:\n",
    "                    print(get_avg_price_by_location(df))\n",
    "                elif pandasmenu_selection == 3:\n",
    "                    print(get_avg_review_score_by_location(df))\n",
    "                elif pandasmenu_selection == 4:\n",
    "                    print(get_avg_review_scores_cleanliness_by_location(df))\n",
    "                else:\n",
    "                    error()\n",
    "    \n",
    "            elif menu_selection == 3:\n",
    "                visualization_selection = visualization_menu()\n",
    "                if visualization_selection == 1:\n",
    "                    bedrooms_piechart(df)\n",
    "                elif visualization_selection == 2:\n",
    "                    room_type_counts(df)\n",
    "                elif visualization_selection == 3:\n",
    "                    accommodates_vs_price_scatterplot(df)\n",
    "                elif visualization_selection == 4:\n",
    "                    airbnb_price(df)\n",
    "                elif visualization_selection == 5:\n",
    "                    beds_pie_chart(df)\n",
    "                else:\n",
    "                    error()\n",
    "\n",
    "            elif menu_selection == 9:\n",
    "                print(\"YOU HAVE SELECTED TO ABORT THE PROGRAM *-*\\n                   \\033[7mBYE\\033[0m\")\n",
    "                system_run = False\n",
    "        else:\n",
    "            error()\n",
    "\n",
    "\n",
    "if __name__ == \"__main__\":\n",
    "    run() \n"
   ]
  },
  {
   "cell_type": "code",
   "execution_count": null,
   "id": "381b8d3f",
   "metadata": {},
   "outputs": [],
   "source": []
  },
  {
   "cell_type": "code",
   "execution_count": 27,
   "id": "8faa1b01",
   "metadata": {},
   "outputs": [
    {
     "ename": "SyntaxError",
     "evalue": "unexpected character after line continuation character (2206872118.py, line 1)",
     "output_type": "error",
     "traceback": [
      "\u001b[1;36m  File \u001b[1;32m\"C:\\Users\\Sourabh\\AppData\\Local\\Temp\\ipykernel_17240\\2206872118.py\"\u001b[1;36m, line \u001b[1;32m1\u001b[0m\n\u001b[1;33m    C:\\\\Users\\\\Sourabh\\\\Desktop\\\\com728\\\\Airbnb_UK_2022.csv\u001b[0m\n\u001b[1;37m       ^\u001b[0m\n\u001b[1;31mSyntaxError\u001b[0m\u001b[1;31m:\u001b[0m unexpected character after line continuation character\n"
     ]
    }
   ],
   "source": [
    "C:\\\\Users\\\\Sourabh\\\\Desktop\\\\com728\\\\Airbnb_UK_2022.csv"
   ]
  },
  {
   "cell_type": "code",
   "execution_count": null,
   "id": "3471137e",
   "metadata": {},
   "outputs": [],
   "source": []
  }
 ],
 "metadata": {
  "kernelspec": {
   "display_name": "Python 3 (ipykernel)",
   "language": "python",
   "name": "python3"
  },
  "language_info": {
   "codemirror_mode": {
    "name": "ipython",
    "version": 3
   },
   "file_extension": ".py",
   "mimetype": "text/x-python",
   "name": "python",
   "nbconvert_exporter": "python",
   "pygments_lexer": "ipython3",
   "version": "3.9.13"
  }
 },
 "nbformat": 4,
 "nbformat_minor": 5
}
