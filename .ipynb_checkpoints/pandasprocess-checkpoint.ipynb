{
 "cells": [
  {
   "cell_type": "code",
   "execution_count": 8,
   "id": "8d32d70e",
   "metadata": {},
   "outputs": [
    {
     "name": "stdout",
     "output_type": "stream",
     "text": [
      "Top 10 most popular amenities or features:\n",
      " Kitchen: 7671\n",
      " Smoke alarm: 7461\n",
      " Wifi: 6733\n",
      " Iron: 6710\n",
      " Hangers: 6633\n",
      " Hot water: 6600\n",
      " Long term stays allowed: 6585\n",
      " Hair dryer: 6070\n",
      " Essentials: 6044\n",
      " Carbon monoxide alarm: 5992\n"
     ]
    }
   ],
   "source": [
    "import pandas as pd\n",
    "\n",
    "# load data from CSV file\n",
    "file_path = 'C:\\\\Users\\\\Sourabh\\\\Desktop\\\\com728\\\\Airbnb_UK_2022.csv'\n",
    "\n",
    "def get_top_amenities(file_path):\n",
    "    df = pd.read_csv(file_path)\n",
    "    amenities_count = {}\n",
    "    for index, row in df.iterrows():\n",
    "        amenities = row['amenities'].replace('{', '').replace('}', '').replace('\"', '').split(',')\n",
    "        for amenity in amenities:\n",
    "            if amenity not in amenities_count:\n",
    "                amenities_count[amenity] = 1\n",
    "            else:\n",
    "                amenities_count[amenity] += 1\n",
    "    top_amenities = sorted(amenities_count.items(), key=lambda x: x[1], reverse=True)[:10]\n",
    "    top_amenities_dict = {amenity: count for amenity, count in top_amenities}\n",
    "    return top_amenities_dict\n",
    "\n",
    "top_amenities_dict = get_top_amenities(file_path)\n",
    "\n",
    "print(\"Top 10 most popular amenities or features:\")\n",
    "for amenity, count in top_amenities_dict.items():\n",
    "    print(f\"{amenity}: {count}\")\n",
    "\n"
   ]
  },
  {
   "cell_type": "code",
   "execution_count": null,
   "id": "94a14ae4",
   "metadata": {},
   "outputs": [],
   "source": []
  }
 ],
 "metadata": {
  "kernelspec": {
   "display_name": "Python 3 (ipykernel)",
   "language": "python",
   "name": "python3"
  },
  "language_info": {
   "codemirror_mode": {
    "name": "ipython",
    "version": 3
   },
   "file_extension": ".py",
   "mimetype": "text/x-python",
   "name": "python",
   "nbconvert_exporter": "python",
   "pygments_lexer": "ipython3",
   "version": "3.9.13"
  }
 },
 "nbformat": 4,
 "nbformat_minor": 5
}
