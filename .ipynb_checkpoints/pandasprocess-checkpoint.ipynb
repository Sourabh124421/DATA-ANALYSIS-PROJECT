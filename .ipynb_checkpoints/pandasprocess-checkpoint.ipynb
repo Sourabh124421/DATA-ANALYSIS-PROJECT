{
 "cells": [
  {
   "cell_type": "code",
   "execution_count": 2,
   "id": "60f58981",
   "metadata": {},
   "outputs": [],
   "source": [
    "import pandas as pd\n",
    "# REFERENCE file_path = 'C:\\\\Users\\\\Sourabh\\\\Desktop\\\\com728\\\\Airbnb_UK_2022.csv'\n",
    "def get_top_amenities(df):\n",
    "    amenities_count = {}\n",
    "    for index, row in df.iterrows():\n",
    "        amenities = row['amenities'].replace('{', '').replace('}', '').replace('\"', '').split(',')\n",
    "        for amenity in amenities:\n",
    "            if amenity not in amenities_count:\n",
    "                amenities_count[amenity] = 1\n",
    "            else:\n",
    "                amenities_count[amenity] += 1\n",
    "    top_amenities = sorted(amenities_count.items(), key=lambda x: x[1], reverse=True)[:10]\n",
    "    top_amenities_dict = {amenity: count for amenity, count in top_amenities}\n",
    "    for amenity, count in top_amenities_dict.items():\n",
    "        print(amenity + ': ' + str(count))\n",
    "    return \"ENJOY YOUR DATA\"\n",
    "\n",
    "def get_avg_price_by_location(df):\n",
    "    avg_price_by_location = df.groupby('host_location')['price'].mean()\n",
    "    return avg_price_by_location \n",
    "\n",
    "def get_avg_review_score_by_location(df):\n",
    "    avg_review_score_by_location = df.groupby('host_location')['review_scores_rating'].mean()\n",
    "    return avg_review_score_by_location \n",
    "\n",
    "def get_avg_review_scores_cleanliness_by_location(df):\n",
    "    avg_review_scores_cleanliness_by_location = df.groupby('host_location')['review_scores_cleanliness'].mean()\n",
    "    return avg_review_scores_cleanliness_by_location \n",
    "\n",
    "# # When i created the file i wanted to test it so i Called it and print and hence now its commented \n",
    "\n",
    "# top_amenities_dict = get_top_amenities(df)\n",
    "# print(\"Top 10 most popular amenities or features:\")\n",
    "# for amenity, count in top_amenities_dict.items():\n",
    "#     print(f\"{amenity}: {count}\")\n",
    "\n",
    "# avg_price_by_location = get_avg_price_by_location(df)\n",
    "# print(\"\\nAverage price of stay in each location:\")\n",
    "# print(avg_price_by_location)\n",
    "\n",
    "# avg_review_score_by_location = get_avg_review_score_by_location(df)\n",
    "# print(\"\\nAverage review scores rating for each location:\")\n",
    "# print(avg_review_score_by_location)\n",
    "\n",
    "# avg_review_scores_cleanliness_by_location = get_avg_review_scores_cleanliness_by_location(df)\n",
    "# print(\"\\nAverage review cleanliness score for each location:\")\n",
    "# print(avg_review_scores_cleanliness_by_location)\n"
   ]
  },
  {
   "cell_type": "code",
   "execution_count": null,
   "id": "f676269f",
   "metadata": {},
   "outputs": [],
   "source": []
  }
 ],
 "metadata": {
  "kernelspec": {
   "display_name": "Python 3 (ipykernel)",
   "language": "python",
   "name": "python3"
  },
  "language_info": {
   "codemirror_mode": {
    "name": "ipython",
    "version": 3
   },
   "file_extension": ".py",
   "mimetype": "text/x-python",
   "name": "python",
   "nbconvert_exporter": "python",
   "pygments_lexer": "ipython3",
   "version": "3.9.13"
  }
 },
 "nbformat": 4,
 "nbformat_minor": 5
}
