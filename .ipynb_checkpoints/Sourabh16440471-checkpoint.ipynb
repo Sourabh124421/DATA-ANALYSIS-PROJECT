{
 "cells": [
  {
   "cell_type": "code",
   "execution_count": 4,
   "id": "65ed8222",
   "metadata": {},
   "outputs": [
    {
     "name": "stdout",
     "output_type": "stream",
     "text": [
      "Enter FILE PATH : C:\\Users\\Sourabh\\Desktop\\sourabh\\Airbnb_UK_2022.csv\n"
     ]
    }
   ],
   "source": [
    "#created repo for github\n",
    "#import csv lib to access csv file\n",
    "import csv\n",
    "\n",
    "#take input from the usewr to access file\n",
    "file_name = input(\"Enter FILE PATH : \")\n",
    "\n",
    "#this will allow the user to put any desirable file path"
   ]
  },
  {
   "cell_type": "code",
   "execution_count": 6,
   "id": "d04db5c2",
   "metadata": {},
   "outputs": [
    {
     "name": "stderr",
     "output_type": "stream",
     "text": [
      "IOPub data rate exceeded.\n",
      "The notebook server will temporarily stop sending output\n",
      "to the client in order to avoid crashing it.\n",
      "To change this limit, set the config variable\n",
      "`--NotebookApp.iopub_data_rate_limit`.\n",
      "\n",
      "Current values:\n",
      "NotebookApp.iopub_data_rate_limit=1000000.0 (bytes/sec)\n",
      "NotebookApp.rate_limit_window=3.0 (secs)\n",
      "\n"
     ]
    }
   ],
   "source": [
    "#open csv file to read its contents\n",
    "with open(file_name,encoding=\"utf-8\") as csv_file:\n",
    "    #read the csv file\n",
    "    csv_reader = csv.reader(csv_file)\n",
    "#display all the data\n",
    "    for row in csv_reader:\n",
    "        \n",
    "        print(row)\n",
    "        \n",
    "#getting error due to file being too large"
   ]
  },
  {
   "cell_type": "code",
   "execution_count": null,
   "id": "e2a53648",
   "metadata": {},
   "outputs": [],
   "source": []
  },
  {
   "cell_type": "code",
   "execution_count": null,
   "id": "536d49a3",
   "metadata": {},
   "outputs": [],
   "source": []
  }
 ],
 "metadata": {
  "kernelspec": {
   "display_name": "Python 3 (ipykernel)",
   "language": "python",
   "name": "python3"
  },
  "language_info": {
   "codemirror_mode": {
    "name": "ipython",
    "version": 3
   },
   "file_extension": ".py",
   "mimetype": "text/x-python",
   "name": "python",
   "nbconvert_exporter": "python",
   "pygments_lexer": "ipython3",
   "version": "3.9.13"
  }
 },
 "nbformat": 4,
 "nbformat_minor": 5
}
