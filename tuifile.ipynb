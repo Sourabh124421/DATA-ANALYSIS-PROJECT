{
 "cells": [
  {
   "cell_type": "code",
   "execution_count": 82,
   "id": "ec4fd468",
   "metadata": {
    "scrolled": true
   },
   "outputs": [
    {
     "data": {
      "text/markdown": [
       "<h1><span style='font-size:48px'>Welcome to DATA PROJECT *-*</span></h1>"
      ],
      "text/plain": [
       "<IPython.core.display.Markdown object>"
      ]
     },
     "metadata": {},
     "output_type": "display_data"
    },
    {
     "name": "stdout",
     "output_type": "stream",
     "text": [
      "                                \u001b[7mHOPE YOU'RE HAVING A GREAT DAY!\u001b[0m\n",
      "\n",
      "\n",
      "\u001b[31m\n",
      "Please Select One Option From The Menu:\n",
      "\u001b[0m\n",
      " 1.CSV Process \n",
      "\n",
      " 2.Pandas Process \n",
      "\n",
      " 3.Visualization \n",
      "\n",
      " 9.Abort\n",
      "\n",
      "2\n",
      "You have selected:2\n",
      "\u001b[31m\n",
      "Please Select One Option From The CSV Processes Listed:\n",
      "\u001b[0m\n",
      " 1.Get Information using HOST ID \n",
      "\n",
      " 2.Get Information related to LOCATION \n",
      "\n",
      " 3.Get Information about a specific PROPERTY TYPE \n",
      "\n",
      " 4.Get Information using HOST and LOCATION \n",
      "\n",
      " 5.Press 5 to Dislay the file path\n",
      "\n",
      "3\n",
      "You have selected:3\n",
      "\u001b[31m\n",
      "Please Select One Option From The Pandas Processes Listed:\n",
      "\u001b[0m\n",
      " 1.Get Top 10 Amenities that hosts provide \n",
      "\n",
      " 2.Get Aerage price of stay in each location\n",
      "\n",
      " 3.Get Average review scores rating for each location \n",
      "\n",
      " 4.Get Average review cleanliness score for each location\n",
      "\n",
      "2\n",
      "\u001b[32mYou have selected:\u001b[0m2\n",
      "\u001b[31m\n",
      "Please Select One Option From The Visualization Processes Listed:\n",
      "\u001b[0m\n",
      " 1.Get Pie Chart for Proportion of Number of Bedrooms \n",
      "\n",
      " 2.Get Bar Chart for Number of listings for Each Room Type \n",
      "\n",
      " 3.Get Scatter Plot for Relationship between Accommodates and Price \n",
      "\n",
      " 4.Get Subplots Line Chart for Airbnb prices from 2019 - 2022 \n",
      "\n",
      " 5.Get PieChart for Proportion of Number of Beds \n",
      "\n",
      "1\n",
      "You have selected:1\n"
     ]
    },
    {
     "data": {
      "text/plain": [
       "1"
      ]
     },
     "execution_count": 82,
     "metadata": {},
     "output_type": "execute_result"
    }
   ],
   "source": [
    "from IPython.display import Markdown\n",
    "\n",
    "def heading():\n",
    "    display(Markdown(\"<h1><span style='font-size:48px'>Welcome to DATA PROJECT *-*</span></h1>\"))\n",
    "\n",
    "heading()\n",
    "\n",
    "def welcome_message(): \n",
    "    print(\"                                \\033[7mHOPE YOU'RE HAVING A GREAT DAY!\\033[0m\\n\\n\")\n",
    "    \n",
    "welcome_message()    \n",
    "\n",
    "\n",
    "\n",
    "def menu():\n",
    "    print(\"\\033[31m\\nPlease Select One Option From The Menu:\\n\\033[0m\")\n",
    "    menu_selection=input(\" 1.CSV Process \\n\\n 2.Pandas Process \\n\\n 3.Visualization \\n\\n 9.Abort\\n\\n\")\n",
    "    print(f\"\\033[32mYou have selected:\\033[0m{menu_selection}\")\n",
    "    try:\n",
    "        return int(menu_selection)\n",
    "    except:\n",
    "        return 0\n",
    "    \n",
    "    \n",
    "menu()    \n",
    "\n",
    "def csvprocess_menu():\n",
    "    print(\"\\033[31m\\nPlease Select One Option From The CSV Processes Listed:\\n\\033[0m\")\n",
    "    csvmenu_selection=input(\" 1.Get Information using HOST ID \\n\\n 2.Get Information related to LOCATION \\n\\n 3.Get Information about a specific PROPERTY TYPE \\n\\n 4.Get Information using HOST and LOCATION \\n\\n 5.Press 5 to Dislay the file path\\n\\n\")\n",
    "    print(f\"\\033[32mYou have selected:\\033[0m{csvmenu_selection}\")\n",
    "    try:\n",
    "        return int(csvmenu_selection)\n",
    "    except:\n",
    "        return 0\n",
    "\n",
    "csvprocess_menu()    \n",
    "    \n",
    "    \n",
    "def pandasprocess_menu():\n",
    "    print(\"\\033[31m\\nPlease Select One Option From The Pandas Processes Listed:\\n\\033[0m\")\n",
    "    pandasmenu_selection=input(\" 1.Get Top 10 Amenities that hosts provide \\n\\n 2.Get Aerage price of stay in each location\\n\\n 3.Get Average review scores rating for each location \\n\\n 4.Get Average review cleanliness score for each location\\n\\n\")\n",
    "    print(f\"\\033[32mYou have selected:\\033[0m{pandasmenu_selection}\")\n",
    "    try:\n",
    "        return int(pandasmenu_selection)\n",
    "    except:\n",
    "        return 0\n",
    "    \n",
    "pandasprocess_menu()    \n",
    "\n",
    "def visualization_menu():\n",
    "    print(\"\\033[31m\\nPlease Select One Option From The Visualization Processes Listed:\\n\\033[0m\")\n",
    "    visualization_selection=input(\" 1.Get Pie Chart for Proportion of Number of Bedrooms \\n\\n 2.Get Bar Chart for Number of listings for Each Room Type \\n\\n 3.Get Scatter Plot for Relationship between Accommodates and Price \\n\\n 4.Get Subplots Line Chart for Airbnb prices from 2019 - 2022 \\n\\n 5.Get PieChart for Proportion of Number of Beds \\n\\n\")\n",
    "    print(f\"\\033[32mYou have selected:\\033[0m{visualization_selection}\")\n",
    "    try:\n",
    "        return int(visualization_selection)\n",
    "    except:\n",
    "        return 0\n",
    "    \n",
    "visualization_menu()    \n"
   ]
  },
  {
   "cell_type": "code",
   "execution_count": null,
   "id": "3ea943c4",
   "metadata": {},
   "outputs": [],
   "source": []
  },
  {
   "cell_type": "code",
   "execution_count": null,
   "id": "374e70bd",
   "metadata": {},
   "outputs": [],
   "source": []
  }
 ],
 "metadata": {
  "kernelspec": {
   "display_name": "Python 3 (ipykernel)",
   "language": "python",
   "name": "python3"
  },
  "language_info": {
   "codemirror_mode": {
    "name": "ipython",
    "version": 3
   },
   "file_extension": ".py",
   "mimetype": "text/x-python",
   "name": "python",
   "nbconvert_exporter": "python",
   "pygments_lexer": "ipython3",
   "version": "3.9.13"
  }
 },
 "nbformat": 4,
 "nbformat_minor": 5
}
