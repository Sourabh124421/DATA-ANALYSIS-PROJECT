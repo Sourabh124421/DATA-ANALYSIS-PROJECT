{
 "cells": [
  {
   "cell_type": "markdown",
   "id": "cb23b638",
   "metadata": {},
   "source": [
    "# Section 1 "
   ]
  },
  {
   "cell_type": "markdown",
   "id": "ec963683",
   "metadata": {},
   "source": [
    "Load the data from a CSV file into memory using the CSV module. The path \n",
    "to the file will be specified by the user then use these loaded data to perform \n",
    "following tasks"
   ]
  },
  {
   "cell_type": "code",
   "execution_count": null,
   "id": "5148c2f3",
   "metadata": {},
   "outputs": [],
   "source": [
    "#created repo for github\n",
    "#import csv lib to access csv file\n",
    "import csv\n",
    "\n",
    "#take input from the usewr to access file\n",
    "file_name = input(\"Enter FILE PATH : \")\n",
    "\n",
    "#this will allow the user to put any desirable file pa"
   ]
  },
  {
   "cell_type": "markdown",
   "id": "08087a60",
   "metadata": {},
   "source": [
    "Got the file path from the user"
   ]
  },
  {
   "cell_type": "code",
   "execution_count": null,
   "id": "042a28e3",
   "metadata": {},
   "outputs": [],
   "source": [
    "#open csv file to read its contents\n",
    "with open(file_name,encoding=\"utf-8\") as csv_file:\n",
    "    #read the csv file\n",
    "    csv_reader = csv.reader(csv_file)\n",
    "#display all the data\n",
    "    for row in csv_reader:\n",
    "        \n",
    "        print(row)\n",
    "        \n",
    "        \n",
    "#getting error due to file being too large"
   ]
  },
  {
   "cell_type": "markdown",
   "id": "6ae47a90",
   "metadata": {},
   "source": [
    "Retrieve a name of listing, host_name, description, host_location, and the \n",
    "date the host was created for an individual host by host_id \n",
    "- Retrieve host_name, property_type, price, minimum"
   ]
  },
  {
   "cell_type": "code",
   "execution_count": null,
   "id": "6e575de1",
   "metadata": {},
   "outputs": [],
   "source": [
    "#to retrive the data from the dataset we need to create a new dict\n",
    "data_dict = {}\n",
    "with open(file_name, encoding='utf-8') as csv_file:\n",
    "#read the file using dictreader\n",
    "    reader = csv.DictReader(csv_file)"
   ]
  },
  {
   "cell_type": "code",
   "execution_count": null,
   "id": "7d84b532",
   "metadata": {},
   "outputs": [],
   "source": [
    "#give instructions\n",
    "    for row in reader:\n",
    "        host_id = row['host_id']\n",
    "        data_dict[host_id] = row"
   ]
  },
  {
   "cell_type": "code",
   "execution_count": null,
   "id": "10852239",
   "metadata": {},
   "outputs": [],
   "source": [
    "# take input from user for host if\n",
    "host_id = input(\"Enter the host ID to retrieve data for: \")"
   ]
  },
  {
   "cell_type": "code",
   "execution_count": null,
   "id": "56c37bb5",
   "metadata": {},
   "outputs": [],
   "source": []
  }
 ],
 "metadata": {
  "kernelspec": {
   "display_name": "Python 3 (ipykernel)",
   "language": "python",
   "name": "python3"
  },
  "language_info": {
   "codemirror_mode": {
    "name": "ipython",
    "version": 3
   },
   "file_extension": ".py",
   "mimetype": "text/x-python",
   "name": "python",
   "nbconvert_exporter": "python",
   "pygments_lexer": "ipython3",
   "version": "3.9.13"
  }
 },
 "nbformat": 4,
 "nbformat_minor": 5
}
