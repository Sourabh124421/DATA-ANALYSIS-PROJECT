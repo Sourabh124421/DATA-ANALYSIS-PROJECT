{
 "cells": [
  {
   "cell_type": "code",
   "execution_count": null,
   "id": "9fe0e5dd",
   "metadata": {},
   "outputs": [],
   "source": [
    "import pandas as pd\n",
    "import matplotlib.pyplot as plt\n",
    "\n",
    "def main(stdscr):\n",
    "    stdscr.nodelay(True)\n",
    "    stdscr.clear()\n",
    "    stdscr.refresh()\n",
    "\n",
    "    # Load data from CSV file using pandas\n",
    "    data = pd.read_csv('path/to/airbnb/data.csv')\n",
    "\n",
    "    # Define menu options\n",
    "    menu_options = [\n",
    "        'Retrieve data for individual host by host_id',\n",
    "        'Retrieve data for all Airbnb listings in a location',\n",
    "        'Retrieve data for all Airbnb listings of a property type',\n",
    "        'Retrieve specific columns for an individual host by location',\n",
    "        'Identify top 10 most popular amenities or features',\n",
    "        'Analyse average price of stay in each location',\n",
    "        'Analyse average review scores rating for each location',\n",
    "        'Analyse data based on your own selection',\n",
    "        'Display pie chart for number of bedrooms',\n",
    "        'Display bar chart for number of listings per room type',\n",
    "        'Display scatter plot for accommodates vs price',\n",
    "        'Display line chart for Airbnb prices over time',\n",
    "        'Display custom visualization'\n",
    "    ]\n"
   ]
  }
 ],
 "metadata": {
  "kernelspec": {
   "display_name": "Python 3 (ipykernel)",
   "language": "python",
   "name": "python3"
  },
  "language_info": {
   "codemirror_mode": {
    "name": "ipython",
    "version": 3
   },
   "file_extension": ".py",
   "mimetype": "text/x-python",
   "name": "python",
   "nbconvert_exporter": "python",
   "pygments_lexer": "ipython3",
   "version": "3.9.13"
  }
 },
 "nbformat": 4,
 "nbformat_minor": 5
}
